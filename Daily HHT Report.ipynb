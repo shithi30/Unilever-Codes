{
 "cells": [
  {
   "cell_type": "code",
   "execution_count": 1,
   "id": "916fa5e3",
   "metadata": {},
   "outputs": [],
   "source": [
    "# import\n",
    "from pathlib import Path\n",
    "import win32com.client\n",
    "from win32com.client import Dispatch\n",
    "import pandas as pd\n",
    "import duckdb\n",
    "from pretty_html_table import build_table\n",
    "import random\n",
    "from datetime import datetime\n",
    "import time"
   ]
  },
  {
   "cell_type": "code",
   "execution_count": 2,
   "id": "dd8881b8",
   "metadata": {},
   "outputs": [],
   "source": [
    "# fetch HHT File\n",
    "def fetch_hht_file(file): \n",
    "\n",
    "    # output folder\n",
    "    output_dir = Path.cwd() / 'HHT Files'\n",
    "    output_dir.mkdir(parents=True, exist_ok=True)\n",
    "\n",
    "    # outlook inbox\n",
    "    outlook = win32com.client.Dispatch('Outlook.Application').GetNamespace('MAPI')\n",
    "    inbox = outlook.Folders.Item(1).Folders['Kader Bhai']\n",
    "    # inbox = outlook.Folders('shithi.maitra@unilever.com').Folders('Inbox').Folders('Kader Bhai')\n",
    "\n",
    "    # emails\n",
    "    messages = inbox.Items\n",
    "    for message in reversed(messages): \n",
    "\n",
    "        # attachments\n",
    "        attachments = message.Attachments\n",
    "        for attachment in attachments:\n",
    "            \n",
    "            # reports\n",
    "            filename = attachment.FileName\n",
    "            if file in filename: \n",
    "                print(\"Found: \" + filename)\n",
    "                attachment.SaveAsFile(output_dir / filename) \n",
    "                return\n",
    "            "
   ]
  },
  {
   "cell_type": "code",
   "execution_count": 3,
   "id": "31861c10",
   "metadata": {},
   "outputs": [],
   "source": [
    "# download\n",
    "yester_day = duckdb.query('''select strftime(current_date-1, '%d %b %Y') dt''').df()['dt'].tolist()[0]\n",
    "filename = 'Secondary order_' + yester_day\n",
    "fetch_hht_file(filename)"
   ]
  },
  {
   "cell_type": "code",
   "execution_count": 4,
   "id": "6f01b78b",
   "metadata": {},
   "outputs": [
    {
     "ename": "FileNotFoundError",
     "evalue": "[Errno 2] No such file or directory: 'C:/Users/Shithi.Maitra/Unilever Codes/Ad Hoc/HHT Files/Secondary order_04 Mar 2024.xlsx'",
     "output_type": "error",
     "traceback": [
      "\u001b[1;31m---------------------------------------------------------------------------\u001b[0m",
      "\u001b[1;31mFileNotFoundError\u001b[0m                         Traceback (most recent call last)",
      "Cell \u001b[1;32mIn[4], line 2\u001b[0m\n\u001b[0;32m      1\u001b[0m \u001b[38;5;66;03m# input\u001b[39;00m\n\u001b[1;32m----> 2\u001b[0m ip_df \u001b[38;5;241m=\u001b[39m pd\u001b[38;5;241m.\u001b[39mread_excel(\u001b[38;5;28;43mopen\u001b[39;49m\u001b[43m(\u001b[49m\u001b[38;5;124;43m\"\u001b[39;49m\u001b[38;5;124;43mC:/Users/Shithi.Maitra/Unilever Codes/Ad Hoc/HHT Files/\u001b[39;49m\u001b[38;5;124;43m\"\u001b[39;49m\u001b[43m \u001b[49m\u001b[38;5;241;43m+\u001b[39;49m\u001b[43m \u001b[49m\u001b[43mfilename\u001b[49m\u001b[43m \u001b[49m\u001b[38;5;241;43m+\u001b[39;49m\u001b[43m \u001b[49m\u001b[38;5;124;43m\"\u001b[39;49m\u001b[38;5;124;43m.xlsx\u001b[39;49m\u001b[38;5;124;43m\"\u001b[39;49m\u001b[43m,\u001b[49m\u001b[43m \u001b[49m\u001b[38;5;124;43m\"\u001b[39;49m\u001b[38;5;124;43mrb\u001b[39;49m\u001b[38;5;124;43m\"\u001b[39;49m\u001b[43m)\u001b[49m, sheet_name\u001b[38;5;241m=\u001b[39m\u001b[38;5;124m\"\u001b[39m\u001b[38;5;124mSheet1\u001b[39m\u001b[38;5;124m\"\u001b[39m, header\u001b[38;5;241m=\u001b[39m\u001b[38;5;241m0\u001b[39m, index_col\u001b[38;5;241m=\u001b[39m\u001b[38;5;28;01mNone\u001b[39;00m)\n\u001b[0;32m      3\u001b[0m ip_df \u001b[38;5;241m=\u001b[39m ip_df[[\u001b[38;5;124m'\u001b[39m\u001b[38;5;124mClassification\u001b[39m\u001b[38;5;124m'\u001b[39m, \u001b[38;5;124m'\u001b[39m\u001b[38;5;124mBasepack\u001b[39m\u001b[38;5;124m'\u001b[39m, \u001b[38;5;124m'\u001b[39m\u001b[38;5;124mCategory description\u001b[39m\u001b[38;5;124m'\u001b[39m, \u001b[38;5;124m'\u001b[39m\u001b[38;5;124mTown\u001b[39m\u001b[38;5;124m'\u001b[39m, \u001b[38;5;124m'\u001b[39m\u001b[38;5;124mCompany\u001b[39m\u001b[38;5;124m'\u001b[39m, \u001b[38;5;124m'\u001b[39m\u001b[38;5;124mV3 Order HHT\u001b[39m\u001b[38;5;124m'\u001b[39m]]\n\u001b[0;32m      4\u001b[0m ip_df\u001b[38;5;241m.\u001b[39mcolumns \u001b[38;5;241m=\u001b[39m [\u001b[38;5;124m'\u001b[39m\u001b[38;5;124mcls\u001b[39m\u001b[38;5;124m'\u001b[39m, \u001b[38;5;124m'\u001b[39m\u001b[38;5;124mbp\u001b[39m\u001b[38;5;124m'\u001b[39m, \u001b[38;5;124m'\u001b[39m\u001b[38;5;124mcat\u001b[39m\u001b[38;5;124m'\u001b[39m, \u001b[38;5;124m'\u001b[39m\u001b[38;5;124mtown\u001b[39m\u001b[38;5;124m'\u001b[39m, \u001b[38;5;124m'\u001b[39m\u001b[38;5;124mcompany\u001b[39m\u001b[38;5;124m'\u001b[39m, \u001b[38;5;124m'\u001b[39m\u001b[38;5;124mhht_order_qty_cs\u001b[39m\u001b[38;5;124m'\u001b[39m]\n",
      "File \u001b[1;32m~\\Anaconda3\\lib\\site-packages\\IPython\\core\\interactiveshell.py:284\u001b[0m, in \u001b[0;36m_modified_open\u001b[1;34m(file, *args, **kwargs)\u001b[0m\n\u001b[0;32m    277\u001b[0m \u001b[38;5;28;01mif\u001b[39;00m file \u001b[38;5;129;01min\u001b[39;00m {\u001b[38;5;241m0\u001b[39m, \u001b[38;5;241m1\u001b[39m, \u001b[38;5;241m2\u001b[39m}:\n\u001b[0;32m    278\u001b[0m     \u001b[38;5;28;01mraise\u001b[39;00m \u001b[38;5;167;01mValueError\u001b[39;00m(\n\u001b[0;32m    279\u001b[0m         \u001b[38;5;124mf\u001b[39m\u001b[38;5;124m\"\u001b[39m\u001b[38;5;124mIPython won\u001b[39m\u001b[38;5;124m'\u001b[39m\u001b[38;5;124mt let you open fd=\u001b[39m\u001b[38;5;132;01m{\u001b[39;00mfile\u001b[38;5;132;01m}\u001b[39;00m\u001b[38;5;124m by default \u001b[39m\u001b[38;5;124m\"\u001b[39m\n\u001b[0;32m    280\u001b[0m         \u001b[38;5;124m\"\u001b[39m\u001b[38;5;124mas it is likely to crash IPython. If you know what you are doing, \u001b[39m\u001b[38;5;124m\"\u001b[39m\n\u001b[0;32m    281\u001b[0m         \u001b[38;5;124m\"\u001b[39m\u001b[38;5;124myou can use builtins\u001b[39m\u001b[38;5;124m'\u001b[39m\u001b[38;5;124m open.\u001b[39m\u001b[38;5;124m\"\u001b[39m\n\u001b[0;32m    282\u001b[0m     )\n\u001b[1;32m--> 284\u001b[0m \u001b[38;5;28;01mreturn\u001b[39;00m io_open(file, \u001b[38;5;241m*\u001b[39margs, \u001b[38;5;241m*\u001b[39m\u001b[38;5;241m*\u001b[39mkwargs)\n",
      "\u001b[1;31mFileNotFoundError\u001b[0m: [Errno 2] No such file or directory: 'C:/Users/Shithi.Maitra/Unilever Codes/Ad Hoc/HHT Files/Secondary order_04 Mar 2024.xlsx'"
     ]
    }
   ],
   "source": [
    "# input\n",
    "ip_df = pd.read_excel(open(\"C:/Users/Shithi.Maitra/Unilever Codes/Ad Hoc/HHT Files/\" + filename + \".xlsx\", \"rb\"), sheet_name=\"Sheet1\", header=0, index_col=None)\n",
    "ip_df = ip_df[['Classification', 'Basepack', 'Category description', 'Town', 'Company', 'V3 Order HHT']]\n",
    "ip_df.columns = ['cls', 'bp', 'cat', 'town', 'company', 'hht_order_qty_cs']\n",
    "ip_df = duckdb.query('''select * from ip_df where hht_order_qty_cs>0''').df()\n",
    "display(ip_df)"
   ]
  },
  {
   "cell_type": "code",
   "execution_count": null,
   "id": "ed45f131",
   "metadata": {},
   "outputs": [],
   "source": [
    "# analysis\n",
    "# basepack\n",
    "qry = '''\n",
    "select \n",
    "    bp basepack, \n",
    "    sum(hht_order_qty_cs) \"hht_order_qty_cs\", \n",
    "    count(town) \"hht_order_town_count\", \n",
    "    string_agg(town, ', ') \"hht_order_towns\"\n",
    "from ip_df \n",
    "group by 1 \n",
    "order by 2 desc\n",
    "'''\n",
    "bp_df = duckdb.query(qry).df()\n",
    "# class\n",
    "qry = '''select cls \"class\", sum(hht_order_qty_cs) \"hht_order_qty_cs\" from ip_df group by 1 order by 2 desc'''\n",
    "cls_df = duckdb.query(qry).df()\n",
    "# category\n",
    "qry = '''select cat category, sum(hht_order_qty_cs) \"hht_order_qty_cs\" from ip_df group by 1 order by 2 desc'''\n",
    "cat_df = duckdb.query(qry).df()\n",
    "# town\n",
    "qry = '''select town, sum(hht_order_qty_cs) \"hht_order_qty_cs\" from ip_df group by 1 order by 2 desc'''\n",
    "town_df = duckdb.query(qry).df()\n",
    "# company\n",
    "qry = '''select company, sum(hht_order_qty_cs) \"hht_order_qty_cs\" from ip_df group by 1 order by 2 desc'''\n",
    "company_df = duckdb.query(qry).df()"
   ]
  },
  {
   "cell_type": "code",
   "execution_count": null,
   "id": "72b5518e",
   "metadata": {},
   "outputs": [],
   "source": [
    "# store\n",
    "with pd.ExcelWriter(\"C:/Users/Shithi.Maitra/Downloads/hht_daily_\" + yester_day + \".xlsx\") as writer:\n",
    "    ip_df.to_excel(writer, sheet_name=\"Full\", index=False)\n",
    "    bp_df.to_excel(writer, sheet_name=\"Basepack\", index=False)\n",
    "    cls_df.to_excel(writer, sheet_name=\"Class\", index=False)\n",
    "    cat_df.to_excel(writer, sheet_name=\"Category\", index=False)\n",
    "    company_df.to_excel(writer, sheet_name=\"Company\", index=False)"
   ]
  },
  {
   "cell_type": "code",
   "execution_count": null,
   "id": "f413736f",
   "metadata": {},
   "outputs": [],
   "source": [
    "# email analysis\n",
    "total_hht_ord = duckdb.query('''select sum(\"hht_order_qty_cs\") hht_order_qty_cs from ip_df''').df()['hht_order_qty_cs'].tolist()[0]\n",
    "qry = '''\n",
    "select \n",
    "    bp Basepack, \n",
    "    sum(hht_order_qty_cs) \"HHT Order Qty (CS)\", \n",
    "    concat(round(sum(\"hht_order_qty_cs\")*100.00/''' + str(total_hht_ord) + ''', 2), '%')  \"HHT Order Qty (CS) %\",\n",
    "    count(town) \"HHT Order Town Count\", \n",
    "    case\n",
    "        when length(string_agg(town, ', '))>40 then concat(left(string_agg(town, ', '), 40), ' ...')\n",
    "        else string_agg(town, ', ')\n",
    "    end \"HHT Order Towns\"\n",
    "from ip_df \n",
    "group by 1 \n",
    "order by 2 desc\n",
    "limit 7\n",
    "'''\n",
    "email_df = duckdb.query(qry).df()\n",
    "display(email_df)"
   ]
  },
  {
   "cell_type": "code",
   "execution_count": null,
   "id": "02be104e",
   "metadata": {},
   "outputs": [],
   "source": [
    "# email\n",
    "ol = win32com.client.Dispatch(\"outlook.application\")\n",
    "olmailitem = 0x0\n",
    "newmail = ol.CreateItem(olmailitem)\n",
    "\n",
    "# subject, recipients\n",
    "newmail.Subject = 'Daily HHT Distribution'\n",
    "# newmail.To = 'shithi.maitra@unilever.com'\n",
    "newmail.To = 'mehedi.asif@unilever.com'\n",
    "newmail.CC = 'sajeed.jahangir@unilever.com; sanzana.tabassum@unilever.com; anika.hasan@unilever.com; hasib.farabi@unilever.com; asif.rezwan@unilever.com; md.ahsan-habib@unilever.com'\n",
    "\n",
    "# body\n",
    "newmail.HTMLbody = f'''\n",
    "Dear concern,<br><br>\n",
    "Please find analyses of yesterday's HHT orders (total <b>''' + str(int(total_hht_ord)) + '''</b> cases) attached, in different cuts. Given below is a BP-wise summary (top-<b>07</b>).\n",
    "''' + build_table(email_df, random.choice(['green_light', 'red_light', 'blue_light', 'grey_light', 'orange_light']), font_size='11px', text_align='left') + '''\n",
    "More enhancements may be added to the analysis eventually. This is an auto email via <i>win32com</i>.<br><br>\n",
    "Thanks,<br>\n",
    "Shithi Maitra<br>\n",
    "Asst. Manager, Cust. Service Excellence<br>\n",
    "Unilever BD Ltd.<br>\n",
    "'''\n",
    "\n",
    "# attachment(s) \n",
    "folder = \"C:/Users/Shithi.Maitra/Downloads/\"\n",
    "filename = folder + \"hht_daily_\" + yester_day + \".xlsx\"\n",
    "newmail.Attachments.Add(filename)\n",
    "\n",
    "# send\n",
    "newmail.Send()"
   ]
  },
  {
   "cell_type": "code",
   "execution_count": null,
   "id": "9865f810",
   "metadata": {},
   "outputs": [],
   "source": []
  },
  {
   "cell_type": "code",
   "execution_count": null,
   "id": "36a869f9",
   "metadata": {},
   "outputs": [],
   "source": []
  }
 ],
 "metadata": {
  "kernelspec": {
   "display_name": "Python 3 (ipykernel)",
   "language": "python",
   "name": "python3"
  },
  "language_info": {
   "codemirror_mode": {
    "name": "ipython",
    "version": 3
   },
   "file_extension": ".py",
   "mimetype": "text/x-python",
   "name": "python",
   "nbconvert_exporter": "python",
   "pygments_lexer": "ipython3",
   "version": "3.9.7"
  }
 },
 "nbformat": 4,
 "nbformat_minor": 5
}
