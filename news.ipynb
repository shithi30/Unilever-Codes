{
 "cells": [
  {
   "cell_type": "code",
   "execution_count": null,
   "id": "99162f17-cb21-4d53-a76e-c8f97967f8de",
   "metadata": {},
   "outputs": [],
   "source": [
    "## import\n",
    "import serpapi\n",
    "import pandas as pd\n",
    "import duckdb\n",
    "from googleapiclient.discovery import build\n",
    "from google.oauth2 import service_account\n",
    "import win32com.client\n",
    "import time"
   ]
  },
  {
   "cell_type": "code",
   "execution_count": null,
   "id": "4568c402-66a1-4d7d-b43b-793c885583b6",
   "metadata": {},
   "outputs": [],
   "source": [
    "## client\n",
    "start_time = time.time()\n",
    "client = serpapi.Client(api_key=\"8e56eebbced63dac4f882b55f6ec39ed550c537bde65bff6d4abd288ad02fcac\")"
   ]
  },
  {
   "cell_type": "code",
   "execution_count": null,
   "id": "c1bee3b5-b14f-47a7-b507-60de171b9e21",
   "metadata": {},
   "outputs": [],
   "source": [
    "## datapoint\n",
    "def data_from_result(json, field, subfield):\n",
    "    try: data = json[field] if subfield == \"\" else json[field][subfield]\n",
    "    except: data = None\n",
    "    return data"
   ]
  },
  {
   "cell_type": "code",
   "execution_count": null,
   "id": "db7fbe38-32ff-4074-bfb4-808fdfc14ece",
   "metadata": {},
   "outputs": [],
   "source": [
    "# APIs\n",
    "results_pmpt = [\"FMCG industry when:3d\", \"eCommerce when:3d\"]\n",
    "results_fmcg = client.search({\"engine\": \"google_news\", \"q\": results_pmpt[0], \"gl\": \"bd\"})\n",
    "results_ecom = client.search({\"engine\": \"google_news\", \"q\": results_pmpt[1], \"gl\": \"bd\"})\n",
    "results_apis = [results_fmcg, results_ecom]"
   ]
  },
  {
   "cell_type": "code",
   "execution_count": null,
   "id": "7bd386f0-1872-40a8-a87c-1fa281748836",
   "metadata": {},
   "outputs": [],
   "source": [
    "## decode\n",
    "\n",
    "# parse\n",
    "news_df_acc = pd.DataFrame()\n",
    "for i in range(0, 2): \n",
    "    results = results_apis[i]\n",
    "    news_df = pd.DataFrame(columns = [\"position\", \"title\", \"snippet\", \"source\", \"author\", \"link\", \"publish_date\", \"search_term\"])\n",
    "    for news_result in results[\"news_results\"]:\n",
    "        pos = data_from_result(news_result, \"position\", \"\")\n",
    "        ttl = data_from_result(news_result, \"title\", \"\")\n",
    "        spt = data_from_result(news_result, \"snippet\", \"\")\n",
    "        src = data_from_result(news_result, \"source\", \"name\")\n",
    "        atr = data_from_result(news_result, \"source\", \"authors\")\n",
    "        url = data_from_result(news_result, \"link\", \"\")\n",
    "        ymd = data_from_result(news_result, \"date\", \"\")\n",
    "        news_df.loc[len(news_df)] = (pos, ttl, spt, src, \", \".join(atr) if atr is not None else None, url, ymd, results_pmpt[i])\n",
    "\n",
    "    # record\n",
    "    news_df_acc = pd.concat([news_df_acc, news_df], ignore_index = True)\n",
    "    print(str(len(results[\"news_results\"])) + \" results parsed.\")\n"
   ]
  },
  {
   "cell_type": "code",
   "execution_count": null,
   "id": "592c853b-19d0-4f76-a096-20b54dd2b88a",
   "metadata": {},
   "outputs": [],
   "source": [
    "## services\n",
    "\n",
    "# credentials\n",
    "SERVICE_ACCOUNT_FILE = \"read-write-to-gsheet-apis-1-04f16c652b1e.json\"\n",
    "SAMPLE_SPREADSHEET_ID = \"1gkLRp59RyRw4UFds0-nNQhhWOaS4VFxtJ_Hgwg2x2A0\"\n",
    "SCOPES = [\"https://www.googleapis.com/auth/spreadsheets\"]\n",
    "\n",
    "# APIs\n",
    "creds = service_account.Credentials.from_service_account_file(SERVICE_ACCOUNT_FILE, scopes=SCOPES)\n",
    "service = build(\"sheets\", \"v4\", credentials=creds)\n",
    "sheet = service.spreadsheets()"
   ]
  },
  {
   "cell_type": "code",
   "execution_count": null,
   "id": "5be4a3db-cd9f-4fdc-bfa7-959c02cdc524",
   "metadata": {},
   "outputs": [],
   "source": [
    "## ETL\n",
    "\n",
    "# extract\n",
    "values = sheet.values().get(spreadsheetId=SAMPLE_SPREADSHEET_ID, range=\"Reports!A1:J\").execute().get(\"values\", [])\n",
    "prev_df = pd.DataFrame(values[1:] , columns = values[0])\n",
    "\n",
    "# transform\n",
    "qry = '''\n",
    "-- old\n",
    "select position, title, snippet, source, author, link, publish_date, search_term, 0 if_new, report_date from prev_df union all\n",
    "-- new\n",
    "select position, title, snippet, source, author, link, publish_date, search_term, 1 if_new, strftime(now(), '%d-%b-%y, %I:%M %p') report_date\n",
    "from news_df_acc\n",
    "where title not in(select title from prev_df)\n",
    "'''\n",
    "pres_df = duckdb.query(qry).df()\n",
    "new_df = duckdb.query('''select * from pres_df where if_new=1 order by position::int asc''').df()\n",
    "email_df = new_df.head()\n",
    "\n",
    "# load\n",
    "sheet.values().clear(spreadsheetId=SAMPLE_SPREADSHEET_ID, range=\"Reports!A1:J\").execute()\n",
    "sheet.values().update(spreadsheetId=SAMPLE_SPREADSHEET_ID, range=\"Reports!A1\", valueInputOption=\"USER_ENTERED\", body={\"values\": [pres_df.columns.values.tolist()] + pres_df.fillna(\"\").values.tolist()}).execute()"
   ]
  },
  {
   "cell_type": "code",
   "execution_count": null,
   "id": "3d934c12-2537-4894-b433-6e46effb36e9",
   "metadata": {},
   "outputs": [],
   "source": [
    "## email\n",
    "\n",
    "# object\n",
    "ol = win32com.client.Dispatch(\"outlook.application\")\n",
    "newmail = ol.CreateItem(0x0)\n",
    "\n",
    "# expressions, ref: https://www.w3schools.com/charsets/ref_emoji.asp\n",
    "emos = [128680, 128240, 9889, 8987] # alarm, newspaper, thunder, hourglass\n",
    "\n",
    "# display\n",
    "new_cnt = new_df.shape[0]\n",
    "email_cnt = email_df.shape[0]\n",
    "email_ttl = email_df[\"title\"].tolist()\n",
    "email_url = email_df[\"link\"].tolist()\n",
    "email_ymd = email_df[\"publish_date\"].tolist()\n",
    "\n",
    "# report\n",
    "new = '''Dear concern,<br><br>&#''' + str(emos[0]) + ''' Following are, some of the <b>''' + str(new_cnt) + '''</b> newly found <i>FMCG/eCommerce</i> article(s), as of ''' + time.strftime(\"%d-%b-%y, %I:%M %p\") + '''.'''\n",
    "for i in range(0, email_cnt): new = new + '''<br>&nbsp;&nbsp;&nbsp;&nbsp;&nbsp;&nbsp;• <a href=\"''' + email_url[i]+ '''\">''' + (email_ttl[i] if len(email_ttl[i]) < 63 else email_ttl[i][0:63] + \" ...\") + '''</a> [''' + email_ymd[i].split(\", +\")[0] + ''']''' \n",
    "new = new + '''<br>&#''' + str(emos[1]) + ''' Full list, <a href=\"https://docs.google.com/spreadsheets/d/1gkLRp59RyRw4UFds0-nNQhhWOaS4VFxtJ_Hgwg2x2A0/edit#gid=245632566\">here</a> (filter by today).'''\n",
    "new = new + '''<br>&#''' + str(emos[2]) + ''' Powered by: <a href=\"https://serpapi.com/google-news-api\">Google News API [<img src=\"https://upload.wikimedia.org/wikipedia/commons/thumb/d/da/Google_News_icon.svg/2503px-Google_News_icon.svg.png\" style=\"display: inline-block; width: 20px; height: 15px; padding-top: 2px\">]</a>'''\n",
    "new = new + '''<br>&#''' + str(emos[3]) + ''' Elapsed time to report (sec): ''' + str(round(time.time() - start_time)) + '''<br><br>'''\n",
    "newmail.HTMLbody = new + '''Thanks,<br>Shithi Maitra<br>Asst. Manager, CSE<br>Unilever BD Ltd.<br>'''\n",
    "\n",
    "# Teams\n",
    "newmail.Subject = \"FMCG Reports (\" + str(new_cnt) + \"*)\" if new_cnt > 0 else \"FMCG Reports\"\n",
    "if new_cnt > 0: newmail.To = \"avra.barua@unilever.com; safa-e.nafee@unilever.com; rafid-al.mahmood@unilever.com\"\n",
    "newmail.BCC = \"shithi30@outlook.com\"\n",
    "newmail.Send()"
   ]
  },
  {
   "cell_type": "code",
   "execution_count": null,
   "id": "7c2781ee-9d75-4c85-b5ba-6d8b2129cc1a",
   "metadata": {},
   "outputs": [],
   "source": []
  }
 ],
 "metadata": {
  "kernelspec": {
   "display_name": "Python 3 (ipykernel)",
   "language": "python",
   "name": "python3"
  },
  "language_info": {
   "codemirror_mode": {
    "name": "ipython",
    "version": 3
   },
   "file_extension": ".py",
   "mimetype": "text/x-python",
   "name": "python",
   "nbconvert_exporter": "python",
   "pygments_lexer": "ipython3",
   "version": "3.11.7"
  }
 },
 "nbformat": 4,
 "nbformat_minor": 5
}
